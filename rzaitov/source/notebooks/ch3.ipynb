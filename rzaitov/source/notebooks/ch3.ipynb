{
 "cells": [
  {
   "cell_type": "code",
   "execution_count": 1,
   "metadata": {},
   "outputs": [
    {
     "data": {
      "image/png": "[encoded data removed]",
      "text/plain": [
       "<Figure size 432x288 with 1 Axes>"
      ]
     },
     "metadata": {
      "needs_background": "light"
     },
     "output_type": "display_data"
    }
   ],
   "source": [
    "import sys, os\n",
    "sys.path.append(os.path.abspath('../functions'))\n",
    "\n",
    "# Import libraries\n",
    "import numpy as np\n",
    "import matplotlib.pyplot as plt\n",
    "\n",
    "# Import functions\n",
    "from pole_utils import pole_from_plane\n",
    "from st_coord_line import eq_angle_stereonet, eq_area_stereonet\n",
    "\n",
    "# Plot the following four lines (trend and plunge)\n",
    "# on an equal angle or equal area stereonet\n",
    "lines = np.array([[30, 30],[120, 45],[210, 65],[280, 15]])\n",
    "\n",
    "linesr = np.radians(lines) # lines in radians\n",
    "\n",
    "# Plot the primitive of the stereonet\n",
    "r = 1; # unit radius\n",
    "TH = np.radians(np.arange(0,360))\n",
    "x = r * np.cos(TH)\n",
    "y = r * np.sin(TH)\n",
    "plt.plot(x,y,'k')\n",
    "# Plot center of circle\n",
    "plt.plot(0,0,'k+')\n",
    "# Plot North label\n",
    "plt.text(0,1.1,'N')\n",
    "# Make axes equal and remove them\n",
    "plt.axis('equal')\n",
    "plt.axis('off')\n",
    "\n",
    "# Find the coordinates of the lines in the\n",
    "# equal angle or equal area stereonet\n",
    "nrow, ncol = lines.shape\n",
    "eq_angle = np.zeros((nrow, ncol))\n",
    "eq_area = np.zeros((nrow, ncol))\n",
    "\n",
    "for i in range(nrow):\n",
    "    # Equal angle coordinates\n",
    "    eq_angle[i,0], eq_angle[i,1] = eq_angle_stereonet(linesr[i,0],linesr[i,1]) \n",
    "    # Equal area coordinates\n",
    "    eq_area[i,0], eq_area[i,1] = eq_area_stereonet(linesr[i,0],linesr[i,1])\n",
    "    \n",
    "# Plot the lines\n",
    "# Equal angle as black dots\n",
    "plt.plot(eq_angle[:,0],eq_angle[:,1],'ko')\n",
    "# Equal area as red dots\n",
    "plt.plot(eq_area[:,0],eq_area[:,1],'ro');"
   ]
  },
  {
   "cell_type": "code",
   "execution_count": 2,
   "metadata": {},
   "outputs": [
    {
     "data": {
      "image/png": "[encoded data removed]",
      "text/plain": [
       "<Figure size 432x288 with 1 Axes>"
      ]
     },
     "metadata": {
      "needs_background": "light"
     },
     "output_type": "display_data"
    }
   ],
   "source": [
    "# Plot the following four planes (strike and dip, RHR)\n",
    "# as poles on an equal angle or equal area stereonet\n",
    "planes = np.array([[0, 30], [90, 50], [180, 15], [270, 65]])\n",
    "\n",
    "planesr = np.radians(planes) # lines in radians\n",
    "\n",
    "# Plot the primitive of the stereonet\n",
    "plt.plot(x,y,'k')\n",
    "# Plot center of circle\n",
    "plt.plot(0,0,'k+')\n",
    "# Plot North label\n",
    "plt.text(0,1.1,'N')\n",
    "# Make axes equal and remove them\n",
    "plt.axis('equal')\n",
    "plt.axis('off')\n",
    "\n",
    "# Find the coordinates of the poles to the planes in the\n",
    "# equal angle or equal area stereonet\n",
    "for i in range(nrow):\n",
    "    # Compute pole of plane\n",
    "    trend, plunge = pole_from_plane(planesr[i,0],planesr[i,1])\n",
    "    # Equal angle coordinates\n",
    "    eq_angle[i,0], eq_angle[i,1] = eq_angle_stereonet(trend,plunge) \n",
    "    # Equal area coordinates\n",
    "    eq_area[i,0], eq_area[i,1] = eq_area_stereonet(trend,plunge)\n",
    "\n",
    "# Plot the poles\n",
    "# Equal angle as black asterisks\n",
    "plt.plot(eq_angle[:,0],eq_angle[:,1],'k*')\n",
    "# Equal area as red asterisks\n",
    "plt.plot(eq_area[:,0],eq_area[:,1],'r*');"
   ]
  }
 ],
 "metadata": {
  "kernelspec": {
   "display_name": "Python 3",
   "language": "python",
   "name": "python3"
  },
  "language_info": {
   "codemirror_mode": {
    "name": "ipython",
    "version": 3
   },
   "file_extension": ".py",
   "mimetype": "text/x-python",
   "name": "python",
   "nbconvert_exporter": "python",
   "pygments_lexer": "ipython3",
   "version": "3.8.5"
  }
 },
 "nbformat": 4,
 "nbformat_minor": 2
}
