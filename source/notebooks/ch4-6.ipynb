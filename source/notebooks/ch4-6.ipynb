{
 "cells": [
  {
   "cell_type": "markdown",
   "metadata": {},
   "source": [
    "Suppose that in the first problem on page 64, the uncertainty in strike is 4$^\\circ$ and in dip is 2$^\\circ$. This problem can be solved as follows:"
   ]
  },
  {
   "cell_type": "code",
   "execution_count": 2,
   "metadata": {},
   "outputs": [
    {
     "name": "stdout",
     "output_type": "stream",
     "text": [
      "Hinge trend = 265.8+/-3.3, plunge 25.3+/-2.6\n",
      "Rake of hinge in SW dipping limb = 138.4+/-4.6\n",
      "Rake of hinge in NW dipping limb = 29.5+/-3.5\n"
     ]
    }
   ],
   "source": [
    "# Import libraries\n",
    "import numpy as np\n",
    "pi = np.pi\n",
    "import uncertainties as unc\n",
    "\n",
    "# Import function AnglesU\n",
    "import sys, os\n",
    "sys.path.append(os.path.abspath('../functions'))\n",
    "from AnglesU import AnglesU\n",
    "\n",
    "# Strike and dip of the limbs in radians\n",
    "str1, dip1 = np.radians([120, 40]) # SW dipping limb\n",
    "str2, dip2 = np.radians([250, 60]) # NW dipping limb\n",
    "\n",
    "# Errors in strike and dip in radians\n",
    "ustr, udip = np.radians([4, 2])\n",
    "\n",
    "# Create the input values with uncertainties\n",
    "str1 = unc.ufloat(str1, ustr)  # str1 = str1 +/-ustr\n",
    "dip1 = unc.ufloat(dip1, udip)  # dip1 = dip1 +/-udip\n",
    "str2 = unc.ufloat(str2, ustr)  # str2 = str2 +/-ustr\n",
    "dip2 = unc.ufloat(dip2, udip)  # dip2 = dip2 +/-udip\n",
    "\n",
    "# (a) Chevron folds have planar limbs. The hinge\n",
    "# of the fold is the intersection of the limbs\n",
    "htrd, hplg = AnglesU(str1,dip1,str2,dip2,'i')\n",
    "print('Hinge trend = {:.1f}, plunge {:.1f}'.format(htrd*180/pi,hplg*180/pi))\n",
    "\n",
    "# The rake of the hinge on either limb is the angle \n",
    "# between the hinge and the strike line on the limb. \n",
    "# This line is horizontal and has plunge = 0\n",
    "plg = unc.ufloat(0, udip)  # plg = 0 +/-udip\n",
    "\n",
    "# (b) For the SW dipping limb\n",
    "ang1, ang2 = AnglesU(str1,plg,htrd,hplg,'l')\n",
    "print('Rake of hinge in SW dipping limb = {:.1f}'.format(ang1*180/pi))\n",
    "\n",
    "# (c) And for the NW dipping limb\n",
    "ang1, ang2 = AnglesU(str2,plg,htrd,hplg,'l')\n",
    "print('Rake of hinge in NW dipping limb = {:.1f}'.format(ang1*180/pi))"
   ]
  },
  {
   "cell_type": "markdown",
   "metadata": {},
   "source": [
    "Now, suppose that in the map of Fig. 4.6, the error in East and North coordinates is 10 m, and in elevation is 5 m. What is the strike and dip of the T-S contact? "
   ]
  },
  {
   "cell_type": "code",
   "execution_count": 5,
   "metadata": {},
   "outputs": [
    {
     "name": "stdout",
     "output_type": "stream",
     "text": [
      "Plane strike = 84.5+/-3.5, dip = 22.5+/-2.7\n"
     ]
    }
   ],
   "source": [
    "# Import function ThreePointU\n",
    "from ThreePointU import ThreePointU\n",
    "\n",
    "# ENU coordinates of the three points\n",
    "# with uncertainties in E-N = 10, and U = 5\n",
    "p1 = np.array([unc.ufloat(509, 10), unc.ufloat(2041, 10), unc.ufloat(400, 5)])\n",
    "p2 = np.array([unc.ufloat(1323, 10), unc.ufloat(2362, 10), unc.ufloat(500, 5)])\n",
    "p3 = np.array([unc.ufloat(2003, 10), unc.ufloat(2913, 10), unc.ufloat(700, 5)])\n",
    "\n",
    "# Compute the orientation of the plane\n",
    "strike, dip = ThreePointU(p1,p2,p3)\n",
    "print('Plane strike = {:.1f}, dip = {:.1f}'.format(strike*180/pi,dip*180/pi))"
   ]
  }
 ],
 "metadata": {
  "kernelspec": {
   "display_name": "Python 3",
   "language": "python",
   "name": "python3"
  },
  "language_info": {
   "codemirror_mode": {
    "name": "ipython",
    "version": 3
   },
   "file_extension": ".py",
   "mimetype": "text/x-python",
   "name": "python",
   "nbconvert_exporter": "python",
   "pygments_lexer": "ipython3",
   "version": "3.8.5"
  }
 },
 "nbformat": 4,
 "nbformat_minor": 2
}
