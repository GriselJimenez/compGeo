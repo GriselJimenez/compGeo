{
 "cells": [
  {
   "cell_type": "code",
   "execution_count": 1,
   "metadata": {},
   "outputs": [
    {
     "data": {
      "image/png": "[encoded data removed]",
      "text/plain": [
       "<Figure size 432x288 with 1 Axes>"
      ]
     },
     "metadata": {
      "needs_background": "light"
     },
     "output_type": "display_data"
    }
   ],
   "source": [
    "# Import libraries\n",
    "import numpy as np\n",
    "import matplotlib.pyplot as plt\n",
    "\n",
    "# Import functions pole_from_plane and\n",
    "# st_coord_line\n",
    "import sys, os\n",
    "sys.path.append(os.path.abspath(\"../functions\"))\n",
    "from pole import pole_from_plane\n",
    "from st_coord_line import st_coord_line\n",
    "\n",
    "# Make a figure\n",
    "fig, ax = plt.subplots()\n",
    "\n",
    "# Plot the following four lines (trend and plunge)\n",
    "# on an equal angle or equal area stereonet\n",
    "# lines are in radians\n",
    "lines = np.radians([[30, 30],[120, 45],[210, 65],[280, 15]])\n",
    "\n",
    "# Plot the primitive of the stereonet\n",
    "r = 1; # unit radius\n",
    "th = np.radians(np.arange(0,361,1))\n",
    "x = r * np.cos(th)\n",
    "y = r * np.sin(th)\n",
    "ax.plot(x,y,\"k\")\n",
    "# Plot center of circle\n",
    "ax.plot(0,0,\"k+\")\n",
    "# Make axes equal and remove them\n",
    "ax.axis(\"equal\")\n",
    "ax.axis(\"off\")\n",
    "\n",
    "# Find the coordinates of the lines in the\n",
    "# equal angle or equal area stereonet\n",
    "nrow, ncol = lines.shape\n",
    "eq_angle = np.zeros((nrow, ncol))\n",
    "eq_area = np.zeros((nrow, ncol))\n",
    "\n",
    "for i in range(nrow):\n",
    "    # Equal angle coordinates\n",
    "    eq_angle[i,0], eq_angle[i,1] = st_coord_line(lines[i,0],\n",
    "                                    lines[i,1],0) \n",
    "    # Equal area coordinates\n",
    "    eq_area[i,0], eq_area[i,1] = st_coord_line(lines[i,0],\n",
    "                                    lines[i,1],1)\n",
    "    \n",
    "# Plot the lines\n",
    "# Equal angle as black dots\n",
    "ax.plot(eq_angle[:,0],eq_angle[:,1],\"ko\")\n",
    "# Equal area as red dots\n",
    "ax.plot(eq_area[:,0],eq_area[:,1],\"ro\");"
   ]
  },
  {
   "cell_type": "code",
   "execution_count": 2,
   "metadata": {},
   "outputs": [
    {
     "data": {
      "image/png": "[encoded data removed]",
      "text/plain": [
       "<Figure size 432x288 with 1 Axes>"
      ]
     },
     "metadata": {
      "needs_background": "light"
     },
     "output_type": "display_data"
    }
   ],
   "source": [
    "# Plot the following four planes (strike and dip, RHR)\n",
    "# as poles on an equal angle or equal area stereonet\n",
    "# planes are in radians\n",
    "planes = np.radians([[0, 30], [90, 50], \n",
    "                     [180, 15], [270, 65]])\n",
    "\n",
    "# make a figure\n",
    "fig, ax = plt.subplots()\n",
    "\n",
    "# Plot the primitive of the stereonet\n",
    "ax.plot(x,y,\"k\")\n",
    "# Plot center of circle\n",
    "ax.plot(0,0,\"k+\")\n",
    "# Make axes equal and remove them\n",
    "ax.axis(\"equal\")\n",
    "ax.axis(\"off\")\n",
    "\n",
    "# Find the coordinates of the poles to the planes in the\n",
    "# equal angle or equal area stereonet\n",
    "for i in range(nrow):\n",
    "    # Compute pole of plane\n",
    "    trd, plg = pole_from_plane(planes[i,0],planes[i,1])\n",
    "    # Equal angle coordinates\n",
    "    eq_angle[i,0], eq_angle[i,1] = st_coord_line(trd,plg,0) \n",
    "    # Equal area coordinates\n",
    "    eq_area[i,0], eq_area[i,1] = st_coord_line(trd,plg,1)\n",
    "\n",
    "# Plot the poles\n",
    "# Equal angle as black asterisks\n",
    "ax.plot(eq_angle[:,0],eq_angle[:,1],\"k*\")\n",
    "# Equal area as red asterisks\n",
    "ax.plot(eq_area[:,0],eq_area[:,1],\"r*\");"
   ]
  }
 ],
 "metadata": {
  "kernelspec": {
   "display_name": "Python 3 (ipykernel)",
   "language": "python",
   "name": "python3"
  },
  "language_info": {
   "codemirror_mode": {
    "name": "ipython",
    "version": 3
   },
   "file_extension": ".py",
   "mimetype": "text/x-python",
   "name": "python",
   "nbconvert_exporter": "python",
   "pygments_lexer": "ipython3",
   "version": "3.9.13"
  }
 },
 "nbformat": 4,
 "nbformat_minor": 2
}
