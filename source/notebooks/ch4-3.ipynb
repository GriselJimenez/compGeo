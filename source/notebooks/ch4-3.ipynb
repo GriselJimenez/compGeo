{
 "cells": [
  {
   "cell_type": "code",
   "execution_count": 1,
   "metadata": {
    "button": false,
    "new_sheet": false,
    "run_control": {
     "read_only": false
    }
   },
   "outputs": [
    {
     "name": "stdout",
     "output_type": "stream",
     "text": [
      "Mean vector trend = 208.6, plunge 40.0\n",
      "Mean resultant length = 0.963\n"
     ]
    },
    {
     "data": {
      "image/png": "[encoded data removed]",
      "text/plain": [
       "<Figure size 432x288 with 1 Axes>"
      ]
     },
     "metadata": {
      "needs_background": "light"
     },
     "output_type": "display_data"
    }
   ],
   "source": [
    "# Import libraries\n",
    "import numpy as np\n",
    "import matplotlib.pyplot as plt\n",
    "\n",
    "# Import functions st_coord_line and calc_mv\n",
    "import sys, os\n",
    "sys.path.append(os.path.abspath(\"../functions\"))\n",
    "from st_coord_line import st_coord_line\n",
    "from calc_mv import calc_mv\n",
    "\n",
    "# Arrays T and P contain the trend (T) \n",
    "# and plunge (P) of the 10 poles\n",
    "T = np.radians([206, 220, 204, 198, 200, 188, 192, \n",
    "                228, 236, 218])\n",
    "P = np.radians([32, 30, 46, 40, 20, 32, 54, 56, 36, 44])\n",
    "\n",
    "# Compute the mean vector and print orientation\n",
    "# and mean resultant length\n",
    "trd, plg, rave, conc, d99, d95 = calc_mv(T,P)\n",
    "pi = np.pi\n",
    "print(\"Mean vector trend = {:.1f}, plunge {:.1f}\"\n",
    "      .format(trd*180/pi,plg*180/pi))\n",
    "print(\"Mean resultant length = {:.3f}\".format(rave))\n",
    "\n",
    "# Make a figure\n",
    "fig, ax = plt.subplots()\n",
    "\n",
    "# Plot the primitive of the stereonet\n",
    "r = 1; # unit radius\n",
    "th = np.radians(np.arange(0,361,1))\n",
    "x = r * np.cos(th)\n",
    "y = r * np.sin(th)\n",
    "ax.plot(x,y,\"k\")\n",
    "# Plot center of circle\n",
    "ax.plot(0,0,\"k+\")\n",
    "# Make axes equal and remove them\n",
    "ax.axis(\"equal\")\n",
    "ax.axis(\"off\")\n",
    "\n",
    "# Plot the poles as black points\n",
    "# on an equal angle stereonet\n",
    "npoles = len(T)\n",
    "eq_angle = np.zeros((npoles, 2))\n",
    "for i in range(npoles):\n",
    "    # Equal angle coordinates\n",
    "    eq_angle[i,0], eq_angle[i,1] = st_coord_line(T[i],P[i],0)\n",
    "\n",
    "ax.plot(eq_angle[:,0],eq_angle[:,1],\"ko\")\n",
    "\n",
    "# Plot the mean vector as a red point\n",
    "mvx, mvy = st_coord_line(trd,plg,0)\n",
    "ax.plot(mvx,mvy,\"ro\");"
   ]
  }
 ],
 "metadata": {
  "kernelspec": {
   "display_name": "Python 3 (ipykernel)",
   "language": "python",
   "name": "python3"
  },
  "language_info": {
   "codemirror_mode": {
    "name": "ipython",
    "version": 3
   },
   "file_extension": ".py",
   "mimetype": "text/x-python",
   "name": "python",
   "nbconvert_exporter": "python",
   "pygments_lexer": "ipython3",
   "version": "3.9.7"
  }
 },
 "nbformat": 4,
 "nbformat_minor": 2
}
